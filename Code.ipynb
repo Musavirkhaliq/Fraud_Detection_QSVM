{
 "cells": [
  {
   "cell_type": "code",
   "execution_count": 37,
   "id": "dd70b366-e0f0-47fd-9053-b9056171e05e",
   "metadata": {
    "scrolled": true
   },
   "outputs": [
    {
     "data": {
      "text/plain": [
       "Index(['cc_num', 'amt', 'zip', 'lat', 'long', 'city_pop', 'merch_lat',\n",
       "       'merch_long', 'gender'],\n",
       "      dtype='object')"
      ]
     },
     "execution_count": 37,
     "metadata": {},
     "output_type": "execute_result"
    }
   ],
   "source": [
    "import pandas as pd\n",
    "from sklearn.model_selection import train_test_split\n",
    "from sklearn.preprocessing import StandardScaler\n",
    "\n",
    "# Load the data\n",
    "df = pd.read_csv(\"./fraudTrain.csv\")\n",
    "df['gender'].replace(['F','M'],[0,1],inplace=True)\n",
    "selected_features = ['cc_num', 'amt', 'zip', 'lat', 'long', 'city_pop', 'merch_lat', 'merch_long','gender']\n",
    "\n",
    "# Extract selected features and target variable\n",
    "X = df[selected_features]\n",
    "y = df['is_fraud']\n",
    "\n",
    "# # data.head()\n",
    "# # Drop unnecessary columns or those requiring extensive processing for simplicity\n",
    "# drop_columns = ['first', 'last', 'street', 'city', 'trans_num', 'dob', 'trans_date_trans_time']\n",
    "# data = data.drop(columns=drop_columns)\n",
    "\n",
    "# # Encode categorical features\n",
    "# categorical_columns = ['merchant', 'category', 'gender', 'state', 'job']\n",
    "# data = pd.get_dummies(data, columns=categorical_columns)\n",
    "\n",
    "# # Convert 'unix_time' to datetime\n",
    "# data['transaction_datetime'] = pd.to_datetime(data['unix_time'], unit='s')\n",
    "\n",
    "# # Extract relevant features from datetime\n",
    "# data['transaction_day'] = data['transaction_datetime'].dt.day\n",
    "\n",
    "# # Drop the original 'unix_time' and 'transaction_datetime' columns\n",
    "# data = data.drop(columns=['unix_time', 'transaction_datetime'])\n",
    "\n",
    "# # Standardize numerical features\n",
    "# numerical_columns = ['cc_num', 'zip', 'lat', 'long', 'city_pop', 'amt', 'merch_lat', 'merch_long']\n",
    "# scaler = StandardScaler()\n",
    "# data[numerical_columns] = scaler.fit_transform(data[numerical_columns])\n",
    "\n",
    "# # # Split the data into features (X) and target variable (y)\n",
    "# # X = data.drop(columns=['is_fraud'])\n",
    "# # y = data['is_fraud']\n",
    "X.columns"
   ]
  },
  {
   "cell_type": "code",
   "execution_count": null,
   "id": "4c9b2290-e651-4a53-b2f7-c595f06842d2",
   "metadata": {},
   "outputs": [],
   "source": [
    "\n",
    "\n"
   ]
  },
  {
   "cell_type": "code",
   "execution_count": 38,
   "id": "8f4061fb-f810-4891-9f60-b60f1cdd2a51",
   "metadata": {},
   "outputs": [],
   "source": [
    "# import pandas as pd\n",
    "# from sklearn.preprocessing import OneHotEncoder, LabelEncoder\n",
    "\n",
    "# # Assuming df is your DataFrame containing the data\n",
    "\n",
    "# # Drop the 'Unnamed: 0' column if it's not needed\n",
    "# df = df.drop(columns=['Unnamed: 0'])\n",
    "\n",
    "# # Encode categorical features\n",
    "# categorical_columns = ['merchant', 'category', 'gender', 'state', 'job']\n",
    "# df_encoded = pd.get_dummies(df, columns=categorical_columns)\n",
    "\n",
    "# # Encode datetime features\n",
    "# df_encoded['trans_date_trans_time'] = pd.to_datetime(df_encoded['trans_date_trans_time'])\n",
    "# df_encoded['dob'] = pd.to_datetime(df_encoded['dob'])\n",
    "\n",
    "# # Extract relevant features from datetime\n",
    "# df_encoded['trans_date'] = df_encoded['trans_date_trans_time'].dt.date\n",
    "# df_encoded['trans_time'] = df_encoded['trans_date_trans_time'].dt.time\n",
    "\n",
    "# # Drop the original datetime columns\n",
    "# df_encoded = df_encoded.drop(columns=['trans_date_trans_time'])\n",
    "\n",
    "# # Print the encoded DataFrame\n",
    "# print(\"Encoded DataFrame:\\n\", df_encoded)"
   ]
  },
  {
   "cell_type": "code",
   "execution_count": 39,
   "id": "e1540966-4a30-4e62-adbf-9d1e9a41aca4",
   "metadata": {},
   "outputs": [
    {
     "name": "stdout",
     "output_type": "stream",
     "text": [
      "is_fraud\n",
      "0    7506\n",
      "1    7506\n",
      "Name: count, dtype: int64\n"
     ]
    }
   ],
   "source": [
    "from imblearn.under_sampling import RandomUnderSampler\n",
    "from sklearn.model_selection import train_test_split\n",
    "from sklearn.svm import SVC\n",
    "from sklearn.metrics import classification_report\n",
    "\n",
    "# Assuming X_train, X_test, y_train, y_test are your feature and target variable splits\n",
    "\n",
    "# Apply RandomUnderSampler to undersample the majority class\n",
    "undersampler = RandomUnderSampler(sampling_strategy='majority', random_state=42)\n",
    "X_resampled, y_resampled = undersampler.fit_resample(X, y)\n",
    "print(y_resampled.value_counts())\n",
    "\n",
    "\n"
   ]
  },
  {
   "cell_type": "code",
   "execution_count": null,
   "id": "c98f48b9-c2b2-453f-9533-1f29748dd972",
   "metadata": {},
   "outputs": [],
   "source": []
  },
  {
   "cell_type": "code",
   "execution_count": 40,
   "id": "66644379-af54-41c6-aab1-afd791a8e20c",
   "metadata": {},
   "outputs": [],
   "source": [
    "# from sklearn.decomposition import PCA\n",
    "# pca = PCA(n_components=5)  # Choose the number of components you want\n",
    "# X_pca = pca.fit_transform(X_resampled)\n"
   ]
  },
  {
   "cell_type": "code",
   "execution_count": 41,
   "id": "904ecddc-6a3e-4b79-98c0-5629d5b75ac0",
   "metadata": {},
   "outputs": [],
   "source": [
    "# X_pca.shape"
   ]
  },
  {
   "cell_type": "code",
   "execution_count": null,
   "id": "bebc1f64-5bec-42cd-8467-848a60c251ae",
   "metadata": {},
   "outputs": [],
   "source": []
  },
  {
   "cell_type": "code",
   "execution_count": null,
   "id": "56934fdc-4c30-4237-9ae1-1c5553176998",
   "metadata": {},
   "outputs": [],
   "source": []
  },
  {
   "cell_type": "code",
   "execution_count": 42,
   "id": "d9d8da83-026b-4ee7-85e5-fc5ba9d1bf8f",
   "metadata": {},
   "outputs": [
    {
     "data": {
      "text/plain": [
       "is_fraud\n",
       "1    263\n",
       "0    237\n",
       "Name: count, dtype: int64"
      ]
     },
     "execution_count": 42,
     "metadata": {},
     "output_type": "execute_result"
    }
   ],
   "source": [
    "from sklearn.utils import shuffle\n",
    "\n",
    "# Combine X and y into a single DataFrame\n",
    "data_combined = pd.concat([pd.DataFrame(X_resampled), pd.DataFrame(y_resampled)],axis=1)\n",
    "\n",
    "#shuffle data\n",
    "shuffled_data = shuffle(data_combined, random_state=42)\n",
    "shuffled_data.tail()\n",
    "# Randomly sample 300 points from the combined data\n",
    "sampled_data = shuffled_data.sample(n=500, random_state=42)\n",
    "\n",
    "# # Separate the sampled data back into X and y\n",
    "X_new = sampled_data.drop(columns=['is_fraud'])\n",
    "y_new = sampled_data['is_fraud']\n",
    "y_new.value_counts()"
   ]
  },
  {
   "cell_type": "code",
   "execution_count": 43,
   "id": "fb5e3f0e-5efc-47bb-b025-77626a503eac",
   "metadata": {},
   "outputs": [],
   "source": [
    "# Split the data into training and testing sets\n",
    "X_train, X_test, y_train, y_test = train_test_split(X_new, y_new, test_size=0.2, random_state=42)"
   ]
  },
  {
   "cell_type": "code",
   "execution_count": 44,
   "id": "dc8e6f1e-9efd-4d13-8ab3-baff4f23a5e7",
   "metadata": {},
   "outputs": [],
   "source": [
    "scaler = StandardScaler()\n",
    "X_train_scaled = scaler.fit_transform(X_train)\n",
    "X_test_scaled = scaler.transform(X_test)"
   ]
  },
  {
   "cell_type": "code",
   "execution_count": 45,
   "id": "d711126e-ae2d-44be-9a93-00ad29e4aa7c",
   "metadata": {},
   "outputs": [
    {
     "data": {
      "text/plain": [
       "is_fraud\n",
       "1    208\n",
       "0    192\n",
       "Name: count, dtype: int64"
      ]
     },
     "execution_count": 45,
     "metadata": {},
     "output_type": "execute_result"
    }
   ],
   "source": [
    "y_train.value_counts()"
   ]
  },
  {
   "cell_type": "code",
   "execution_count": 46,
   "id": "9e91a7bd-c7b2-4cb9-9e3a-5639631554df",
   "metadata": {},
   "outputs": [],
   "source": [
    "# from imblearn.under_sampling import RandomUnderSampler\n",
    "# from sklearn.model_selection import train_test_split\n",
    "# from sklearn.svm import SVC\n",
    "# from sklearn.metrics import classification_report\n",
    "\n",
    "# # Assuming X_train, X_test, y_train, y_test are your feature and target variable splits\n",
    "\n",
    "# # Apply RandomUnderSampler to undersample the majority class\n",
    "# undersampler = RandomUnderSampler(sampling_strategy='majority', random_state=42)\n",
    "# X_train_resampled, y_train_resampled = undersampler.fit_resample(X_train, y_train)\n",
    "# X_test_resampled, y_test_resampled = undersampler.fit_resample(X_test, y_test)\n",
    "# print(y_train_resampled.value_counts())\n",
    "# print(y_test_resampled.value_counts())\n",
    "\n"
   ]
  },
  {
   "cell_type": "code",
   "execution_count": 47,
   "id": "915ac57b-a7f7-4704-9e4c-a4680ccd919a",
   "metadata": {},
   "outputs": [
    {
     "name": "stdout",
     "output_type": "stream",
     "text": [
      "Classification Report:\n",
      "               precision    recall  f1-score   support\n",
      "\n",
      "           0       0.66      0.96      0.78        45\n",
      "           1       0.94      0.60      0.73        55\n",
      "\n",
      "    accuracy                           0.76       100\n",
      "   macro avg       0.80      0.78      0.76       100\n",
      "weighted avg       0.82      0.76      0.76       100\n",
      "\n"
     ]
    }
   ],
   "source": [
    "# Train SVM on the resampled data\n",
    "# svm_model = SVC(kernel='linear', random_state=42)\n",
    "svm_model = SVC()\n",
    "svm_model.fit(X_train_scaled, y_train)\n",
    "\n",
    "# Make predictions on the test set\n",
    "y_pred = svm_model.predict(X_test_scaled)\n",
    "\n",
    "# Evaluate the model\n",
    "classification_report_result = classification_report(y_test, y_pred)\n",
    "print(\"Classification Report:\\n\", classification_report_result)"
   ]
  },
  {
   "cell_type": "code",
   "execution_count": 48,
   "id": "cd05e587-6e85-42d3-91b8-99587d90ded5",
   "metadata": {},
   "outputs": [
    {
     "name": "stdout",
     "output_type": "stream",
     "text": [
      "Confusion Matrix:\n",
      " [[43  2]\n",
      " [22 33]]\n"
     ]
    }
   ],
   "source": [
    "from sklearn.metrics import classification_report, confusion_matrix\n",
    "\n",
    "confusion_matrix_result = confusion_matrix(y_test, y_pred)\n",
    "print(\"Confusion Matrix:\\n\", confusion_matrix_result)"
   ]
  },
  {
   "cell_type": "code",
   "execution_count": null,
   "id": "d21ec28f-9199-4973-b41c-98fe5504a03c",
   "metadata": {},
   "outputs": [],
   "source": []
  },
  {
   "cell_type": "code",
   "execution_count": null,
   "id": "079627f3-5e0e-48a3-973c-ae3541b7fc18",
   "metadata": {},
   "outputs": [],
   "source": []
  },
  {
   "cell_type": "code",
   "execution_count": null,
   "id": "cd199a55-e9c2-4c9c-a4a2-3e10a143190c",
   "metadata": {},
   "outputs": [],
   "source": []
  },
  {
   "cell_type": "markdown",
   "id": "d7b26ec2-e4a8-4bc8-9504-a201bd69816c",
   "metadata": {},
   "source": [
    "## Quantum Model"
   ]
  },
  {
   "cell_type": "code",
   "execution_count": 49,
   "id": "69ef5d49-346d-4d4d-8ca9-783046fdfb59",
   "metadata": {},
   "outputs": [],
   "source": [
    "# Importing standard Qiskit libraries\n",
    "from qiskit import QuantumCircuit, transpile, BasicAer, IBMQ, execute, Aer, assemble\n",
    "# from qiskit.tools.jupyter import *\n",
    "from qiskit.visualization import *\n",
    "from qiskit import Aer\n",
    "from qiskit.algorithms.optimizers import SPSA\n",
    "from qiskit.circuit import ParameterVector\n",
    "from qiskit.visualization import circuit_drawer\n",
    "\n",
    "\n",
    "\n",
    "from qiskit.providers.aer import QasmSimulator, StatevectorSimulator, UnitarySimulator\n",
    "\n",
    "\n",
    "# General libraries\\\n",
    "import numpy as np\n",
    "import pandas as pd\n",
    "import matplotlib.pyplot as plt\n",
    "from pylab import cm\n",
    "from sklearn import metrics\n",
    "\n",
    "# QKT related\n",
    "from qiskit.circuit.library import ZZFeatureMap,ZFeatureMap, PauliFeatureMap\n",
    "from qiskit_machine_learning.algorithms import QSVC\n",
    "from qiskit_machine_learning.kernels import FidelityQuantumKernel, TrainableFidelityQuantumKernel,QuantumKernel\n",
    "# from qiskit_machine_learning.kernels.algorithms import QuantumKernelTrainer\n",
    "from qiskit.algorithms.state_fidelities import ComputeUncompute\n",
    "# from qiskit.primitives import Sampler\n",
    "\n",
    "# Additional imports\n",
    "from sklearn.decomposition import PCA\n",
    "from sklearn.metrics import confusion_matrix, classification_report\n",
    "from sklearn.model_selection import train_test_split\n",
    "\n",
    "from collections import Counter"
   ]
  },
  {
   "cell_type": "code",
   "execution_count": null,
   "id": "d697b851-8ca3-49a1-8bfd-d1bcab926bcf",
   "metadata": {},
   "outputs": [],
   "source": []
  },
  {
   "cell_type": "code",
   "execution_count": 50,
   "id": "8adb70da-b92e-4a37-b801-7755dd24dc12",
   "metadata": {},
   "outputs": [
    {
     "name": "stdout",
     "output_type": "stream",
     "text": [
      "2\n"
     ]
    }
   ],
   "source": [
    "data_map = lambda x: x[0]*x[0]+1\n",
    "components=9\n",
    "# components =17\n",
    "fm = ZFeatureMap(components, reps=1,data_map_func=data_map)\n",
    "# print(circuit_drawer(fm, output='text'))\n",
    "\n",
    "# fm = ZZFeatureMap(components, entanglement='circular')\n",
    "print(transpile(fm,optimization_level=3).depth())"
   ]
  },
  {
   "cell_type": "code",
   "execution_count": 51,
   "id": "4845808b-b2ab-46f9-a573-bbfc22027f2b",
   "metadata": {},
   "outputs": [
    {
     "data": {
      "text/html": [
       "<style>#sk-container-id-3 {color: black;background-color: white;}#sk-container-id-3 pre{padding: 0;}#sk-container-id-3 div.sk-toggleable {background-color: white;}#sk-container-id-3 label.sk-toggleable__label {cursor: pointer;display: block;width: 100%;margin-bottom: 0;padding: 0.3em;box-sizing: border-box;text-align: center;}#sk-container-id-3 label.sk-toggleable__label-arrow:before {content: \"▸\";float: left;margin-right: 0.25em;color: #696969;}#sk-container-id-3 label.sk-toggleable__label-arrow:hover:before {color: black;}#sk-container-id-3 div.sk-estimator:hover label.sk-toggleable__label-arrow:before {color: black;}#sk-container-id-3 div.sk-toggleable__content {max-height: 0;max-width: 0;overflow: hidden;text-align: left;background-color: #f0f8ff;}#sk-container-id-3 div.sk-toggleable__content pre {margin: 0.2em;color: black;border-radius: 0.25em;background-color: #f0f8ff;}#sk-container-id-3 input.sk-toggleable__control:checked~div.sk-toggleable__content {max-height: 200px;max-width: 100%;overflow: auto;}#sk-container-id-3 input.sk-toggleable__control:checked~label.sk-toggleable__label-arrow:before {content: \"▾\";}#sk-container-id-3 div.sk-estimator input.sk-toggleable__control:checked~label.sk-toggleable__label {background-color: #d4ebff;}#sk-container-id-3 div.sk-label input.sk-toggleable__control:checked~label.sk-toggleable__label {background-color: #d4ebff;}#sk-container-id-3 input.sk-hidden--visually {border: 0;clip: rect(1px 1px 1px 1px);clip: rect(1px, 1px, 1px, 1px);height: 1px;margin: -1px;overflow: hidden;padding: 0;position: absolute;width: 1px;}#sk-container-id-3 div.sk-estimator {font-family: monospace;background-color: #f0f8ff;border: 1px dotted black;border-radius: 0.25em;box-sizing: border-box;margin-bottom: 0.5em;}#sk-container-id-3 div.sk-estimator:hover {background-color: #d4ebff;}#sk-container-id-3 div.sk-parallel-item::after {content: \"\";width: 100%;border-bottom: 1px solid gray;flex-grow: 1;}#sk-container-id-3 div.sk-label:hover label.sk-toggleable__label {background-color: #d4ebff;}#sk-container-id-3 div.sk-serial::before {content: \"\";position: absolute;border-left: 1px solid gray;box-sizing: border-box;top: 0;bottom: 0;left: 50%;z-index: 0;}#sk-container-id-3 div.sk-serial {display: flex;flex-direction: column;align-items: center;background-color: white;padding-right: 0.2em;padding-left: 0.2em;position: relative;}#sk-container-id-3 div.sk-item {position: relative;z-index: 1;}#sk-container-id-3 div.sk-parallel {display: flex;align-items: stretch;justify-content: center;background-color: white;position: relative;}#sk-container-id-3 div.sk-item::before, #sk-container-id-3 div.sk-parallel-item::before {content: \"\";position: absolute;border-left: 1px solid gray;box-sizing: border-box;top: 0;bottom: 0;left: 50%;z-index: -1;}#sk-container-id-3 div.sk-parallel-item {display: flex;flex-direction: column;z-index: 1;position: relative;background-color: white;}#sk-container-id-3 div.sk-parallel-item:first-child::after {align-self: flex-end;width: 50%;}#sk-container-id-3 div.sk-parallel-item:last-child::after {align-self: flex-start;width: 50%;}#sk-container-id-3 div.sk-parallel-item:only-child::after {width: 0;}#sk-container-id-3 div.sk-dashed-wrapped {border: 1px dashed gray;margin: 0 0.4em 0.5em 0.4em;box-sizing: border-box;padding-bottom: 0.4em;background-color: white;}#sk-container-id-3 div.sk-label label {font-family: monospace;font-weight: bold;display: inline-block;line-height: 1.2em;}#sk-container-id-3 div.sk-label-container {text-align: center;}#sk-container-id-3 div.sk-container {/* jupyter's `normalize.less` sets `[hidden] { display: none; }` but bootstrap.min.css set `[hidden] { display: none !important; }` so we also need the `!important` here to be able to override the default hidden behavior on the sphinx rendered scikit-learn.org. See: https://github.com/scikit-learn/scikit-learn/issues/21755 */display: inline-block !important;position: relative;}#sk-container-id-3 div.sk-text-repr-fallback {display: none;}</style><div id=\"sk-container-id-3\" class=\"sk-top-container\"><div class=\"sk-text-repr-fallback\"><pre>QSVC(C=1.0, break_ties=False, cache_size=200, class_weight=None, coef0=0.0,\n",
       "     decision_function_shape=&#x27;ovr&#x27;, degree=3, gamma=&#x27;scale&#x27;, max_iter=-1,\n",
       "     probability=False,\n",
       "     quantum_kernel=&lt;qiskit_machine_learning.kernels.quantum_kernel.QuantumKernel object at 0x7f5118c20be0&gt;,\n",
       "     random_state=None, shrinking=True, tol=0.001, verbose=False)</pre><b>In a Jupyter environment, please rerun this cell to show the HTML representation or trust the notebook. <br />On GitHub, the HTML representation is unable to render, please try loading this page with nbviewer.org.</b></div><div class=\"sk-container\" hidden><div class=\"sk-item\"><div class=\"sk-estimator sk-toggleable\"><input class=\"sk-toggleable__control sk-hidden--visually\" id=\"sk-estimator-id-3\" type=\"checkbox\" checked><label for=\"sk-estimator-id-3\" class=\"sk-toggleable__label sk-toggleable__label-arrow\">QSVC</label><div class=\"sk-toggleable__content\"><pre>QSVC(C=1.0, break_ties=False, cache_size=200, class_weight=None, coef0=0.0,\n",
       "     decision_function_shape=&#x27;ovr&#x27;, degree=3, gamma=&#x27;scale&#x27;, max_iter=-1,\n",
       "     probability=False,\n",
       "     quantum_kernel=&lt;qiskit_machine_learning.kernels.quantum_kernel.QuantumKernel object at 0x7f5118c20be0&gt;,\n",
       "     random_state=None, shrinking=True, tol=0.001, verbose=False)</pre></div></div></div></div></div>"
      ],
      "text/plain": [
       "QSVC(C=1.0, break_ties=False, cache_size=200, class_weight=None, coef0=0.0,\n",
       "     decision_function_shape='ovr', degree=3, gamma='scale', max_iter=-1,\n",
       "     probability=False,\n",
       "     quantum_kernel=<qiskit_machine_learning.kernels.quantum_kernel.QuantumKernel object at 0x7f5118c20be0>,\n",
       "     random_state=None, shrinking=True, tol=0.001, verbose=False)"
      ]
     },
     "execution_count": 51,
     "metadata": {},
     "output_type": "execute_result"
    }
   ],
   "source": [
    "# Create a quantum kernel using the feature map\n",
    "quantum_kernel = QuantumKernel(feature_map=fm, quantum_instance=Aer.get_backend('qasm_simulator'))\n",
    "# quantum_kernel = TrainableFidelityQuantumKernel(feature_map=fm, training_parameters=training_params)\n",
    "\n",
    "# Create a QSVC model\n",
    "qsvc = QSVC(quantum_kernel=quantum_kernel)\n",
    "\n",
    "# Fit the QSVC model using the training data\n",
    "qsvc.fit(X_train_scaled, y_train)"
   ]
  },
  {
   "cell_type": "code",
   "execution_count": 52,
   "id": "f779c8bd-3d9c-433d-a5d6-01f589161180",
   "metadata": {},
   "outputs": [],
   "source": [
    "# Predict the labels\n",
    "labels_test = qsvc.predict(X_test_scaled)\n",
    "\n"
   ]
  },
  {
   "cell_type": "code",
   "execution_count": 53,
   "id": "37aa7d7d-8a13-4daf-8513-b47a0456a999",
   "metadata": {},
   "outputs": [
    {
     "name": "stdout",
     "output_type": "stream",
     "text": [
      "[[34 11]\n",
      " [26 29]]\n",
      "              precision    recall  f1-score   support\n",
      "\n",
      "           0       0.57      0.76      0.65        45\n",
      "           1       0.72      0.53      0.61        55\n",
      "\n",
      "    accuracy                           0.63       100\n",
      "   macro avg       0.65      0.64      0.63       100\n",
      "weighted avg       0.65      0.63      0.63       100\n",
      "\n",
      "Test Accuracy: 0.6414141414141414\n"
     ]
    }
   ],
   "source": [
    "# Evalaute the test accuracy\n",
    "accuracy_test = metrics.balanced_accuracy_score(y_true=y_test, y_pred=labels_test)\n",
    "print(confusion_matrix(y_test, labels_test))\n",
    "print(classification_report(y_test, labels_test))\n",
    "print(f\"Test Accuracy: {accuracy_test}\")"
   ]
  },
  {
   "cell_type": "code",
   "execution_count": null,
   "id": "7d0f619d-3bdd-426c-afe5-287ab0d34b9f",
   "metadata": {},
   "outputs": [],
   "source": []
  },
  {
   "cell_type": "code",
   "execution_count": null,
   "id": "93de8dbe-f452-4706-ac94-327c99e6ee93",
   "metadata": {},
   "outputs": [],
   "source": []
  },
  {
   "cell_type": "code",
   "execution_count": null,
   "id": "c6c9b992-c52e-4314-9743-9db19f1154bd",
   "metadata": {},
   "outputs": [],
   "source": []
  },
  {
   "cell_type": "code",
   "execution_count": null,
   "id": "2646978f-47d6-43ba-a2fd-b7702129d957",
   "metadata": {},
   "outputs": [],
   "source": []
  },
  {
   "cell_type": "code",
   "execution_count": null,
   "id": "3be1d1e0-aa20-4217-b39e-b24795e9d0c1",
   "metadata": {},
   "outputs": [],
   "source": []
  },
  {
   "cell_type": "code",
   "execution_count": null,
   "id": "f2504747-c286-46bf-a26a-86cda3449522",
   "metadata": {},
   "outputs": [],
   "source": []
  },
  {
   "cell_type": "code",
   "execution_count": null,
   "id": "0b3331c7-f001-4938-8b1d-89e94a32dd09",
   "metadata": {},
   "outputs": [],
   "source": []
  },
  {
   "cell_type": "code",
   "execution_count": null,
   "id": "630f8589-e99b-478d-8efe-ec9ca52beed7",
   "metadata": {},
   "outputs": [],
   "source": [
    "from sklearn.svm import SVC\n",
    "from sklearn.metrics import accuracy_score, classification_report\n",
    "from sklearn.model_selection import train_test_split\n",
    "from sklearn.preprocessing import StandardScaler\n",
    "\n",
    "# Assuming your data is already preprocessed as described in the previous response\n",
    "\n",
    "# # Split the data into features (X) and target variable (y)\n",
    "# X = data.drop(columns=['is_fraud'])\n",
    "# y = data['is_fraud']\n",
    "\n",
    "# # Split the data into training and testing sets\n",
    "# X_train, X_test, y_train, y_test = train_test_split(X, y, test_size=0.2, random_state=42)\n",
    "\n",
    "# # Standardize numerical features\n",
    "# scaler = StandardScaler()\n",
    "# X_train[numerical_columns] = scaler.fit_transform(X_train[numerical_columns])\n",
    "# X_test[numerical_columns] = scaler.transform(X_test[numerical_columns])\n",
    "\n",
    "# Initialize the SVM model\n",
    "svm_model = SVC(kernel='linear', random_state=42)\n",
    "\n",
    "# Train the SVM model\n",
    "svm_model.fit(X_train, y_train)\n",
    "\n",
    "# Make predictions on the test set\n",
    "y_pred = svm_model.predict(X_test)\n",
    "\n",
    "# Evaluate the model\n",
    "accuracy = accuracy_score(y_test, y_pred)\n",
    "classification_report_result = classification_report(y_test, y_pred)\n",
    "\n",
    "print(f\"Accuracy: {accuracy:.4f}\")\n",
    "print(\"Classification Report:\\n\", classification_report_result)\n"
   ]
  },
  {
   "cell_type": "code",
   "execution_count": null,
   "id": "f3ebcd3a-f767-4df8-a61a-4d5f2da0d766",
   "metadata": {},
   "outputs": [],
   "source": []
  },
  {
   "cell_type": "code",
   "execution_count": null,
   "id": "f2e62d3e-ce6e-4b03-8aa4-2371f84023f9",
   "metadata": {},
   "outputs": [],
   "source": []
  },
  {
   "cell_type": "code",
   "execution_count": null,
   "id": "48fdcba9-12fc-4f6b-a77a-f73359427fe9",
   "metadata": {},
   "outputs": [],
   "source": []
  },
  {
   "cell_type": "code",
   "execution_count": null,
   "id": "d95fb8f4-624c-4308-a955-2bf0dae1a8b5",
   "metadata": {},
   "outputs": [],
   "source": []
  },
  {
   "cell_type": "code",
   "execution_count": null,
   "id": "e7156c01-7a5c-4a22-bc46-c60e1112eafe",
   "metadata": {},
   "outputs": [],
   "source": []
  },
  {
   "cell_type": "code",
   "execution_count": null,
   "id": "7da48086-d5a0-43d4-88cf-3ea4ab5829a6",
   "metadata": {},
   "outputs": [],
   "source": []
  },
  {
   "cell_type": "code",
   "execution_count": null,
   "id": "978b458f-c4da-49ca-9594-c65822117dd3",
   "metadata": {},
   "outputs": [],
   "source": []
  },
  {
   "cell_type": "code",
   "execution_count": null,
   "id": "c4ab3b51-a705-4a2d-ab37-37e17c70b1be",
   "metadata": {},
   "outputs": [],
   "source": []
  },
  {
   "cell_type": "code",
   "execution_count": null,
   "id": "f1a10167-252e-498f-b84f-faa057a88575",
   "metadata": {},
   "outputs": [],
   "source": []
  },
  {
   "cell_type": "code",
   "execution_count": null,
   "id": "534c7faf-54b5-4691-9172-746df48b0ae1",
   "metadata": {},
   "outputs": [],
   "source": []
  },
  {
   "cell_type": "code",
   "execution_count": null,
   "id": "c54079b4-77a7-47c2-8781-58cd9ebb3e00",
   "metadata": {},
   "outputs": [],
   "source": []
  },
  {
   "cell_type": "code",
   "execution_count": null,
   "id": "90542fec-03f4-4a57-9fcf-5aa02cf00fd3",
   "metadata": {},
   "outputs": [],
   "source": []
  },
  {
   "cell_type": "code",
   "execution_count": null,
   "id": "bb1468f3-9a50-4f5b-90a2-3777a11178de",
   "metadata": {},
   "outputs": [],
   "source": []
  },
  {
   "cell_type": "code",
   "execution_count": null,
   "id": "8de41eb8-fb6d-4f1d-9654-ce1ed2a053ed",
   "metadata": {},
   "outputs": [],
   "source": []
  },
  {
   "cell_type": "code",
   "execution_count": null,
   "id": "a7dae844-e504-453e-ae65-5f07f617e15c",
   "metadata": {},
   "outputs": [],
   "source": []
  },
  {
   "cell_type": "code",
   "execution_count": null,
   "id": "65ef0e8a-8417-4c38-b06f-1825e8b01f69",
   "metadata": {},
   "outputs": [],
   "source": []
  },
  {
   "cell_type": "code",
   "execution_count": null,
   "id": "79005abb-db1b-4df4-baca-cd72f2009c63",
   "metadata": {},
   "outputs": [],
   "source": []
  },
  {
   "cell_type": "code",
   "execution_count": null,
   "id": "7e56d110-f67a-4666-9bfb-ac1229502e59",
   "metadata": {},
   "outputs": [],
   "source": []
  },
  {
   "cell_type": "code",
   "execution_count": null,
   "id": "59b88fcd-5ef9-4d00-9010-55e4bec5ccbe",
   "metadata": {},
   "outputs": [],
   "source": []
  },
  {
   "cell_type": "code",
   "execution_count": null,
   "id": "e974115b-7810-4a94-9529-f2ece8e78d26",
   "metadata": {},
   "outputs": [],
   "source": []
  }
 ],
 "metadata": {
  "kernelspec": {
   "display_name": "Python 3 (ipykernel)",
   "language": "python",
   "name": "python3"
  },
  "language_info": {
   "codemirror_mode": {
    "name": "ipython",
    "version": 3
   },
   "file_extension": ".py",
   "mimetype": "text/x-python",
   "name": "python",
   "nbconvert_exporter": "python",
   "pygments_lexer": "ipython3",
   "version": "3.8.10"
  }
 },
 "nbformat": 4,
 "nbformat_minor": 5
}
