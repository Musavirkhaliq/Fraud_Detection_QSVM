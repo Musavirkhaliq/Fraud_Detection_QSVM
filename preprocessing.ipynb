{
 "cells": [
  {
   "cell_type": "code",
   "execution_count": null,
   "id": "544d5d5a-980a-40bd-b406-6179322aa767",
   "metadata": {},
   "outputs": [],
   "source": []
  },
  {
   "cell_type": "code",
   "execution_count": 9,
   "id": "3444f190-4304-457f-af73-0f91cea00eda",
   "metadata": {},
   "outputs": [
    {
     "data": {
      "text/plain": [
       "Index(['Unnamed: 0', 'trans_date_trans_time', 'cc_num', 'merchant', 'category',\n",
       "       'amt', 'first', 'last', 'gender', 'street', 'city', 'state', 'zip',\n",
       "       'lat', 'long', 'city_pop', 'job', 'dob', 'trans_num', 'unix_time',\n",
       "       'merch_lat', 'merch_long', 'is_fraud'],\n",
       "      dtype='object')"
      ]
     },
     "execution_count": 9,
     "metadata": {},
     "output_type": "execute_result"
    }
   ],
   "source": [
    "import pandas as pd\n",
    "import numpy as np\n",
    "import haversine # pip install haversine\n",
    "import category_encoders as ce # pip install category_encoders\n",
    "import pygeohash\n",
    "\n",
    "from datetime import timedelta\n",
    "from sklearn.preprocessing import StandardScaler\n",
    "from sklearn.impute import SimpleImputer\n",
    "from sklearn.compose import ColumnTransformer\n",
    "from sklearn.ensemble import IsolationForest\n",
    "\n",
    "# Load raw data\n",
    "data = pd.read_csv('fraudTrain.csv')\n",
    "data.columns"
   ]
  },
  {
   "cell_type": "code",
   "execution_count": 6,
   "id": "ef1ce73f-3e36-4923-86c7-91087ce4e0c9",
   "metadata": {},
   "outputs": [
    {
     "name": "stdout",
     "output_type": "stream",
     "text": [
      "   Unnamed: 0            cc_num  merchant  category      first     last  \\\n",
      "0           0  2703186189652095         1         1   Jennifer    Banks   \n",
      "1           1      630423337322         2         2  Stephanie     Gill   \n",
      "2           2    38859492057661         3         3     Edward  Sanchez   \n",
      "3           3  3534093764340240         4         4     Jeremy    White   \n",
      "4           4   375534208663984         5         5      Tyler   Garcia   \n",
      "\n",
      "  gender                        street            city  state  ...  \\\n",
      "0      F                561 Perry Cove  Moravian Falls      1  ...   \n",
      "1      F  43039 Riley Greens Suite 393          Orient      2  ...   \n",
      "2      M      594 White Dale Suite 530      Malad City      3  ...   \n",
      "3      M   9443 Cynthia Court Apt. 038         Boulder      4  ...   \n",
      "4      M              408 Bradley Rest        Doe Hill      5  ...   \n",
      "\n",
      "                          trans_num   unix_time  merch_lat  merch_long  \\\n",
      "0  0b242abb623afc578575680df30655b9  1325376018  36.011293  -82.048315   \n",
      "1  1f76529f8574734946361c461b024d99  1325376044  49.159047 -118.186462   \n",
      "2  a1a22d70485983eac12b5b88dad1cf95  1325376051  43.150704 -112.154481   \n",
      "3  6b849c168bdad6f867558c3793159a81  1325376076  47.034331 -112.561071   \n",
      "4  a41d7549acf90789359a9aa5346dcb46  1325376186  38.674999  -78.632459   \n",
      "\n",
      "  is_fraud   std_amt  month  day           lat_bin       geohash  \n",
      "0        0 -0.407826      1    1  (34.027, 38.694]  dnqm0xzyjpv3  \n",
      "1        0  0.230039      1    1  (48.027, 52.693]  c2eyn5c8pdqw  \n",
      "2        0  0.934149      1    1   (38.694, 43.36]  9x2pvqv2cz18  \n",
      "3        0 -0.158132      1    1   (43.36, 48.027]  c80r0b10z07w  \n",
      "4        0 -0.177094      1    1  (34.027, 38.694]  dnz6xf2bu1x4  \n",
      "\n",
      "[5 rows x 24 columns]\n",
      "(1296675, 24)\n",
      "Index(['Unnamed: 0', 'cc_num', 'merchant', 'category', 'first', 'last',\n",
      "       'gender', 'street', 'city', 'state', 'zip', 'city_pop', 'job', 'dob',\n",
      "       'trans_num', 'unix_time', 'merch_lat', 'merch_long', 'is_fraud',\n",
      "       'std_amt', 'month', 'day', 'lat_bin', 'geohash'],\n",
      "      dtype='object')\n"
     ]
    }
   ],
   "source": [
    "\n",
    "\n",
    "# 1. Convert transaction time to datetime type\n",
    "data['trans_date_trans_time'] = pd.to_datetime(data['trans_date_trans_time'])\n",
    "\n",
    "# # 2. Treating missing values\n",
    "# imputer = SimpleImputer(strategy='median')\n",
    "# imputed_df = pd.DataFrame(imputer.fit_transform(df))\n",
    "# imputed_df.columns = df.columns\n",
    "\n",
    "# Label encode categorical columns  \n",
    "label_encoder = ce.OrdinalEncoder(cols=['merchant', 'job','category', 'state']) \n",
    "df = label_encoder.fit_transform(data)\n",
    "\n",
    "# Apply one-hot encoding\n",
    "# categorical_cols = ['category', 'state']  \n",
    "# df = pd.get_dummies(df, prefix=None, columns=categorical_cols)\n",
    "\n",
    "\n",
    "# 3. Label encoding \n",
    "# label_encoder = ce.OrdinalEncoder(cols=['merchant', 'first', 'last', 'job'])\n",
    "# data_label_encoded = label_encoder.fit_transform(df)\n",
    "# data_label_encoded['first']\n",
    "# # 4. One hot encoding\n",
    "# data_one_hot_encoded = pd.get_dummies(data_label_encoded, prefix=['card_'], \n",
    "#                                         columns=['cc_num'])  \n",
    "                                       \n",
    "# 5. Standard scaling amount\n",
    "amt_scaler = StandardScaler()\n",
    "df['std_amt'] = amt_scaler.fit_transform(df[['amt']])\n",
    "\n",
    "\n",
    "# 6. Time features\n",
    "df['month'] = df['trans_date_trans_time'].dt.month\n",
    "df['day'] = df['trans_date_trans_time'].dt.day\n",
    "\n",
    "\n",
    "\n",
    "\n",
    "# # 7. Calculate time from last transaction per customer\n",
    "# # grouped_df = data_one_hot_encoded.groupby('cc_num')\n",
    "# # grouped_df['days_since_last'] = grouped_df.diff().dt.days \n",
    "\n",
    "# 8. Geospatial features \n",
    "df['lat_bin'] = pd.cut(df['lat'], bins=10)\n",
    "df['geohash'] = df[['lat', 'long']].apply(lambda x: pygeohash.encode(x['lat'], x['long']), axis=1)\n",
    "df.drop(columns=['amt','lat', 'long','trans_date_trans_time'],inplace=True)\n",
    "print(df.head())\n",
    "print(df.shape)\n",
    "print(df.columns)\n",
    "\n",
    "\n",
    "# print(data_one_hot_encoded)\n",
    "# # 9. Distance between transaction points \n",
    "# data_one_hot_encoded['dist_last'] = grouped_df.apply(\n",
    "#     lambda x: haversine.haversine(\n",
    "#         (x['lat'].iloc[-2], x['long'].iloc[-2]),\n",
    "#         (x['lat'].iloc[-1], x['long'].iloc[-1])\n",
    "#     ))\n",
    "  \n",
    "# 10. Anomaly detection\n",
    "# isolation_forest = IsolationForest(n_estimators=100) \n",
    "# isolation_forest.fit(data_one_hot_encoded)\n",
    "# data_one_hot_encoded['anomaly_score'] = isolation_forest.decision_function(data_one_hot_encoded)\n"
   ]
  },
  {
   "cell_type": "code",
   "execution_count": null,
   "id": "affbda77-95ef-4731-9b39-4814c79f5549",
   "metadata": {},
   "outputs": [],
   "source": []
  },
  {
   "cell_type": "code",
   "execution_count": null,
   "id": "e7c591ce-4894-4fcc-95e5-f8cee60f85b8",
   "metadata": {},
   "outputs": [],
   "source": []
  },
  {
   "cell_type": "code",
   "execution_count": null,
   "id": "9146e841-dd58-4b3c-a135-14941ef8e40c",
   "metadata": {},
   "outputs": [],
   "source": []
  },
  {
   "cell_type": "code",
   "execution_count": null,
   "id": "2b97231c-c527-4680-820e-38c1ca5826e1",
   "metadata": {},
   "outputs": [],
   "source": []
  },
  {
   "cell_type": "code",
   "execution_count": null,
   "id": "34f4dfd6-c241-4ea9-8db1-c4b12d1c6ea1",
   "metadata": {},
   "outputs": [],
   "source": []
  },
  {
   "cell_type": "code",
   "execution_count": null,
   "id": "89f81745-783a-4406-8382-55c2067fab2b",
   "metadata": {},
   "outputs": [],
   "source": []
  },
  {
   "cell_type": "code",
   "execution_count": null,
   "id": "816e2d63-a287-4c14-9c03-c8e4dc020c01",
   "metadata": {},
   "outputs": [],
   "source": []
  },
  {
   "cell_type": "code",
   "execution_count": null,
   "id": "28736cb7-7fca-456a-b468-904f1d26fe76",
   "metadata": {},
   "outputs": [],
   "source": []
  },
  {
   "cell_type": "code",
   "execution_count": null,
   "id": "9f58180b-9b9d-4a75-946a-f9453932d6e3",
   "metadata": {},
   "outputs": [],
   "source": []
  },
  {
   "cell_type": "code",
   "execution_count": null,
   "id": "bf8f8c60-8e97-4a29-ab25-149e35c4ba22",
   "metadata": {},
   "outputs": [],
   "source": []
  },
  {
   "cell_type": "code",
   "execution_count": null,
   "id": "c30db56c-db37-4977-aa18-45eb16c187b4",
   "metadata": {},
   "outputs": [],
   "source": []
  },
  {
   "cell_type": "code",
   "execution_count": null,
   "id": "5e6fdb6e-0d45-4515-a68b-c56447453938",
   "metadata": {},
   "outputs": [],
   "source": []
  },
  {
   "cell_type": "code",
   "execution_count": 85,
   "id": "870a91d3-66be-458c-83f9-5de1aa42b49c",
   "metadata": {},
   "outputs": [
    {
     "data": {
      "text/html": [
       "<div>\n",
       "<style scoped>\n",
       "    .dataframe tbody tr th:only-of-type {\n",
       "        vertical-align: middle;\n",
       "    }\n",
       "\n",
       "    .dataframe tbody tr th {\n",
       "        vertical-align: top;\n",
       "    }\n",
       "\n",
       "    .dataframe thead th {\n",
       "        text-align: right;\n",
       "    }\n",
       "</style>\n",
       "<table border=\"1\" class=\"dataframe\">\n",
       "  <thead>\n",
       "    <tr style=\"text-align: right;\">\n",
       "      <th></th>\n",
       "      <th>category</th>\n",
       "      <th>amt</th>\n",
       "      <th>gender</th>\n",
       "      <th>zip</th>\n",
       "      <th>lat</th>\n",
       "      <th>long</th>\n",
       "      <th>city_pop</th>\n",
       "      <th>job</th>\n",
       "      <th>unix_time</th>\n",
       "      <th>merch_lat</th>\n",
       "      <th>merch_long</th>\n",
       "      <th>age</th>\n",
       "      <th>timestamp</th>\n",
       "    </tr>\n",
       "  </thead>\n",
       "  <tbody>\n",
       "    <tr>\n",
       "      <th>0</th>\n",
       "      <td>8</td>\n",
       "      <td>-0.407826</td>\n",
       "      <td>0</td>\n",
       "      <td>28654</td>\n",
       "      <td>-0.484420</td>\n",
       "      <td>0.657620</td>\n",
       "      <td>-0.282589</td>\n",
       "      <td>370</td>\n",
       "      <td>-1.858664</td>\n",
       "      <td>-0.494354</td>\n",
       "      <td>0.593864</td>\n",
       "      <td>-0.848322</td>\n",
       "      <td>-1.851825</td>\n",
       "    </tr>\n",
       "    <tr>\n",
       "      <th>1</th>\n",
       "      <td>4</td>\n",
       "      <td>0.230039</td>\n",
       "      <td>0</td>\n",
       "      <td>99160</td>\n",
       "      <td>2.039120</td>\n",
       "      <td>-2.033870</td>\n",
       "      <td>-0.293670</td>\n",
       "      <td>428</td>\n",
       "      <td>-1.858662</td>\n",
       "      <td>2.078699</td>\n",
       "      <td>-2.030341</td>\n",
       "      <td>-0.272898</td>\n",
       "      <td>-1.851823</td>\n",
       "    </tr>\n",
       "    <tr>\n",
       "      <th>2</th>\n",
       "      <td>0</td>\n",
       "      <td>0.934149</td>\n",
       "      <td>1</td>\n",
       "      <td>83252</td>\n",
       "      <td>0.717754</td>\n",
       "      <td>-1.601537</td>\n",
       "      <td>-0.280406</td>\n",
       "      <td>307</td>\n",
       "      <td>-1.858662</td>\n",
       "      <td>0.902849</td>\n",
       "      <td>-1.592323</td>\n",
       "      <td>0.647781</td>\n",
       "      <td>-1.851822</td>\n",
       "    </tr>\n",
       "    <tr>\n",
       "      <th>3</th>\n",
       "      <td>2</td>\n",
       "      <td>-0.158132</td>\n",
       "      <td>1</td>\n",
       "      <td>59632</td>\n",
       "      <td>1.515617</td>\n",
       "      <td>-1.590766</td>\n",
       "      <td>-0.287742</td>\n",
       "      <td>328</td>\n",
       "      <td>-1.858660</td>\n",
       "      <td>1.662886</td>\n",
       "      <td>-1.621848</td>\n",
       "      <td>0.360069</td>\n",
       "      <td>-1.851820</td>\n",
       "    </tr>\n",
       "    <tr>\n",
       "      <th>4</th>\n",
       "      <td>9</td>\n",
       "      <td>-0.177094</td>\n",
       "      <td>1</td>\n",
       "      <td>24433</td>\n",
       "      <td>-0.023035</td>\n",
       "      <td>0.782279</td>\n",
       "      <td>-0.293835</td>\n",
       "      <td>116</td>\n",
       "      <td>-1.858651</td>\n",
       "      <td>0.026941</td>\n",
       "      <td>0.841909</td>\n",
       "      <td>-0.733237</td>\n",
       "      <td>-1.851812</td>\n",
       "    </tr>\n",
       "    <tr>\n",
       "      <th>...</th>\n",
       "      <td>...</td>\n",
       "      <td>...</td>\n",
       "      <td>...</td>\n",
       "      <td>...</td>\n",
       "      <td>...</td>\n",
       "      <td>...</td>\n",
       "      <td>...</td>\n",
       "      <td>...</td>\n",
       "      <td>...</td>\n",
       "      <td>...</td>\n",
       "      <td>...</td>\n",
       "      <td>...</td>\n",
       "      <td>...</td>\n",
       "    </tr>\n",
       "    <tr>\n",
       "      <th>1296670</th>\n",
       "      <td>0</td>\n",
       "      <td>-0.341769</td>\n",
       "      <td>1</td>\n",
       "      <td>84735</td>\n",
       "      <td>-0.161575</td>\n",
       "      <td>-1.617214</td>\n",
       "      <td>-0.293309</td>\n",
       "      <td>215</td>\n",
       "      <td>1.757855</td>\n",
       "      <td>-0.331926</td>\n",
       "      <td>-1.558650</td>\n",
       "      <td>0.705324</td>\n",
       "      <td>1.760708</td>\n",
       "    </tr>\n",
       "    <tr>\n",
       "      <th>1296671</th>\n",
       "      <td>1</td>\n",
       "      <td>-0.116339</td>\n",
       "      <td>1</td>\n",
       "      <td>21790</td>\n",
       "      <td>0.143638</td>\n",
       "      <td>0.924207</td>\n",
       "      <td>-0.293832</td>\n",
       "      <td>360</td>\n",
       "      <td>1.757855</td>\n",
       "      <td>0.072321</td>\n",
       "      <td>0.869934</td>\n",
       "      <td>-0.330440</td>\n",
       "      <td>1.760709</td>\n",
       "    </tr>\n",
       "    <tr>\n",
       "      <th>1296672</th>\n",
       "      <td>1</td>\n",
       "      <td>0.221930</td>\n",
       "      <td>1</td>\n",
       "      <td>88325</td>\n",
       "      <td>-1.102883</td>\n",
       "      <td>-1.133257</td>\n",
       "      <td>-0.291186</td>\n",
       "      <td>308</td>\n",
       "      <td>1.757856</td>\n",
       "      <td>-0.962433</td>\n",
       "      <td>-1.082272</td>\n",
       "      <td>0.360069</td>\n",
       "      <td>1.760710</td>\n",
       "    </tr>\n",
       "    <tr>\n",
       "      <th>1296673</th>\n",
       "      <td>1</td>\n",
       "      <td>0.028375</td>\n",
       "      <td>1</td>\n",
       "      <td>57756</td>\n",
       "      <td>0.948613</td>\n",
       "      <td>-0.895029</td>\n",
       "      <td>-0.290434</td>\n",
       "      <td>485</td>\n",
       "      <td>1.757861</td>\n",
       "      <td>0.832051</td>\n",
       "      <td>-0.945074</td>\n",
       "      <td>-0.387982</td>\n",
       "      <td>1.760715</td>\n",
       "    </tr>\n",
       "    <tr>\n",
       "      <th>1296674</th>\n",
       "      <td>1</td>\n",
       "      <td>-0.412005</td>\n",
       "      <td>1</td>\n",
       "      <td>59871</td>\n",
       "      <td>1.439314</td>\n",
       "      <td>-1.718754</td>\n",
       "      <td>-0.293441</td>\n",
       "      <td>467</td>\n",
       "      <td>1.757862</td>\n",
       "      <td>1.571229</td>\n",
       "      <td>-1.739852</td>\n",
       "      <td>-1.251119</td>\n",
       "      <td>1.760715</td>\n",
       "    </tr>\n",
       "  </tbody>\n",
       "</table>\n",
       "<p>1296675 rows × 13 columns</p>\n",
       "</div>"
      ],
      "text/plain": [
       "         category       amt  gender    zip       lat      long  city_pop  job  \\\n",
       "0               8 -0.407826       0  28654 -0.484420  0.657620 -0.282589  370   \n",
       "1               4  0.230039       0  99160  2.039120 -2.033870 -0.293670  428   \n",
       "2               0  0.934149       1  83252  0.717754 -1.601537 -0.280406  307   \n",
       "3               2 -0.158132       1  59632  1.515617 -1.590766 -0.287742  328   \n",
       "4               9 -0.177094       1  24433 -0.023035  0.782279 -0.293835  116   \n",
       "...           ...       ...     ...    ...       ...       ...       ...  ...   \n",
       "1296670         0 -0.341769       1  84735 -0.161575 -1.617214 -0.293309  215   \n",
       "1296671         1 -0.116339       1  21790  0.143638  0.924207 -0.293832  360   \n",
       "1296672         1  0.221930       1  88325 -1.102883 -1.133257 -0.291186  308   \n",
       "1296673         1  0.028375       1  57756  0.948613 -0.895029 -0.290434  485   \n",
       "1296674         1 -0.412005       1  59871  1.439314 -1.718754 -0.293441  467   \n",
       "\n",
       "         unix_time  merch_lat  merch_long       age  timestamp  \n",
       "0        -1.858664  -0.494354    0.593864 -0.848322  -1.851825  \n",
       "1        -1.858662   2.078699   -2.030341 -0.272898  -1.851823  \n",
       "2        -1.858662   0.902849   -1.592323  0.647781  -1.851822  \n",
       "3        -1.858660   1.662886   -1.621848  0.360069  -1.851820  \n",
       "4        -1.858651   0.026941    0.841909 -0.733237  -1.851812  \n",
       "...            ...        ...         ...       ...        ...  \n",
       "1296670   1.757855  -0.331926   -1.558650  0.705324   1.760708  \n",
       "1296671   1.757855   0.072321    0.869934 -0.330440   1.760709  \n",
       "1296672   1.757856  -0.962433   -1.082272  0.360069   1.760710  \n",
       "1296673   1.757861   0.832051   -0.945074 -0.387982   1.760715  \n",
       "1296674   1.757862   1.571229   -1.739852 -1.251119   1.760715  \n",
       "\n",
       "[1296675 rows x 13 columns]"
      ]
     },
     "execution_count": 85,
     "metadata": {},
     "output_type": "execute_result"
    }
   ],
   "source": [
    "import pandas as pd\n",
    "from datetime import datetime\n",
    "from sklearn.preprocessing import LabelEncoder, StandardScaler\n",
    "\n",
    "# Load the dataset \n",
    "df = pd.read_csv('fraudTrain.csv')\n",
    "df['dob'] = pd.to_datetime(df['dob'])\n",
    "# Convert DOB to numeric age \n",
    "df['age'] = df['dob'].apply(lambda x: datetime.now().year - x.year)\n",
    "\n",
    "# Drop original dob column\n",
    "df = df.drop('dob', axis=1)\n",
    "# Convert transaction date-time to datetime\n",
    "df['trans_date_trans_time'] = pd.to_datetime(df['trans_date_trans_time'])  \n",
    "df['timestamp'] = df['trans_date_trans_time'].apply(lambda x: x.timestamp())\n",
    "# Encode categorical features \n",
    "le = LabelEncoder()\n",
    "# cat_cols = ['cc_num', 'merchant', 'category',  'gender', \n",
    "#             'street', 'city', 'state', 'job']\n",
    "cat_cols = ['category',  'gender','job']\n",
    "for col in cat_cols:\n",
    "    df[col] = le.fit_transform(df[col])\n",
    " \n",
    "# Standardize numerical features\n",
    "num_cols = ['amt', 'lat', 'long', 'city_pop', 'age', 'unix_time', 'merch_lat', 'merch_long','timestamp']  \n",
    "scaler = StandardScaler()\n",
    "df[num_cols] = scaler.fit_transform(df[num_cols])\n",
    "\n",
    "# Get time since last transaction \n",
    "# df['time_since_last'] = df['trans_date_trans_time'].diff().dt.total_seconds()\n",
    "\n",
    "# Split into X (features) and y (target)\n",
    "df = df.drop(['Unnamed: 0','trans_date_trans_time','first', 'last','trans_num',\n",
    "              'cc_num', 'merchant', \n",
    "              'street', 'city', 'state',], axis=1)\n",
    "X = df.drop('is_fraud', axis=1)  \n",
    "y = df['is_fraud']\n",
    "# X = X.sort_values(by='cc_num')\n",
    "X"
   ]
  },
  {
   "cell_type": "code",
   "execution_count": 86,
   "id": "c69d88dc-1098-40f7-beb7-38ebb9ca2c8b",
   "metadata": {},
   "outputs": [],
   "source": [
    "# X['cc_num'].unique().shape"
   ]
  },
  {
   "cell_type": "code",
   "execution_count": 87,
   "id": "7b9a6ad5-9fa4-4537-b210-1f56f7fdcb32",
   "metadata": {},
   "outputs": [
    {
     "name": "stdout",
     "output_type": "stream",
     "text": [
      "is_fraud\n",
      "0    7506\n",
      "1    7506\n",
      "Name: count, dtype: int64\n"
     ]
    }
   ],
   "source": [
    "from imblearn.under_sampling import RandomUnderSampler\n",
    "from sklearn.model_selection import train_test_split\n",
    "from sklearn.svm import SVC\n",
    "from sklearn.metrics import classification_report\n",
    "\n",
    "# Assuming X_train, X_test, y_train, y_test are your feature and target variable splits\n",
    "\n",
    "# Apply RandomUnderSampler to undersample the majority class\n",
    "undersampler = RandomUnderSampler(sampling_strategy='majority', random_state=42)\n",
    "X_resampled, y_resampled = undersampler.fit_resample(X, y)\n",
    "print(y_resampled.value_counts())\n",
    "\n",
    "\n"
   ]
  },
  {
   "cell_type": "code",
   "execution_count": 88,
   "id": "cc07777c-5fbd-4e64-b33f-a4fe522af266",
   "metadata": {},
   "outputs": [
    {
     "data": {
      "text/plain": [
       "is_fraud\n",
       "1    310\n",
       "0    290\n",
       "Name: count, dtype: int64"
      ]
     },
     "execution_count": 88,
     "metadata": {},
     "output_type": "execute_result"
    }
   ],
   "source": [
    "from sklearn.utils import shuffle\n",
    "\n",
    "# Combine X and y into a single DataFrame\n",
    "data_combined = pd.concat([pd.DataFrame(X_resampled), pd.DataFrame(y_resampled)],axis=1)\n",
    "\n",
    "#shuffle data\n",
    "shuffled_data = shuffle(data_combined, random_state=42)\n",
    "shuffled_data.tail()\n",
    "# Randomly sample 300 points from the combined data\n",
    "sampled_data = shuffled_data.sample(n=600, random_state=42)\n",
    "\n",
    "# # Separate the sampled data back into X and y\n",
    "X_new = sampled_data.drop(columns=['is_fraud'])\n",
    "y_new = sampled_data['is_fraud']\n",
    "y_new.value_counts()"
   ]
  },
  {
   "cell_type": "code",
   "execution_count": null,
   "id": "1b15068c-3510-411e-b9be-8049dff180ad",
   "metadata": {},
   "outputs": [],
   "source": []
  },
  {
   "cell_type": "code",
   "execution_count": null,
   "id": "c995f94c-8129-4ca6-9d7f-4e06c9a1ebf9",
   "metadata": {},
   "outputs": [],
   "source": []
  },
  {
   "cell_type": "code",
   "execution_count": null,
   "id": "3e7e1ba1-4019-4bd9-a500-5a3f46b5a629",
   "metadata": {},
   "outputs": [],
   "source": []
  },
  {
   "cell_type": "code",
   "execution_count": null,
   "id": "0310105b-28a9-4cc7-b380-8854f249e38f",
   "metadata": {},
   "outputs": [],
   "source": []
  },
  {
   "cell_type": "code",
   "execution_count": null,
   "id": "266b7406-dd8e-4e7b-812e-0f60bb3c241e",
   "metadata": {},
   "outputs": [],
   "source": []
  },
  {
   "cell_type": "code",
   "execution_count": null,
   "id": "9c8dcff8-40d4-45f6-8346-15778c6ea78d",
   "metadata": {},
   "outputs": [],
   "source": []
  },
  {
   "cell_type": "code",
   "execution_count": null,
   "id": "afc484e8-1566-44c0-a0d4-16e608e7df14",
   "metadata": {},
   "outputs": [],
   "source": []
  },
  {
   "cell_type": "code",
   "execution_count": 89,
   "id": "c3ec2274-a687-48a1-9db0-05276ab30ed5",
   "metadata": {},
   "outputs": [
    {
     "name": "stdout",
     "output_type": "stream",
     "text": [
      "Accuracy: 52.500%\n",
      "Precision: 50.909%\n",
      "Recall: 94.915%\n"
     ]
    }
   ],
   "source": [
    "from sklearn.model_selection import train_test_split\n",
    "from sklearn.metrics import accuracy_score, precision_score, recall_score\n",
    "from sklearn.svm import SVC\n",
    "\n",
    "# Split data into train and test sets\n",
    "X_train, X_test, y_train, y_test = train_test_split(X_new, y_new, test_size=0.2, random_state=42)\n",
    "# Create the SVM with RBF kernel and tune hyperparameters\n",
    "svm = SVC(kernel='rbf', C=1.0, gamma=0.1) \n",
    "\n",
    "# Fit SVM to the training data   \n",
    "svm.fit(X_train, y_train)  \n",
    "\n",
    "# Make predictions on test data\n",
    "y_pred = svm.predict(X_test)\n",
    "\n",
    "# Evaluate model performance\n",
    "accuracy = accuracy_score(y_test, y_pred)\n",
    "precision = precision_score(y_test, y_pred)\n",
    "recall = recall_score(y_test, y_pred)\n",
    "\n",
    "print(\"Accuracy: %.3f%%\"%(accuracy*100.0))\n",
    "print(\"Precision: %.3f%%\"%(precision*100.0))\n",
    "print(\"Recall: %.3f%%\"%(recall*100.0))"
   ]
  },
  {
   "cell_type": "code",
   "execution_count": 90,
   "id": "f765e19b-8be9-4d2a-a80e-d5aff37986f2",
   "metadata": {},
   "outputs": [
    {
     "name": "stdout",
     "output_type": "stream",
     "text": [
      "Classification Report:\n",
      "               precision    recall  f1-score   support\n",
      "\n",
      "           0       0.70      0.11      0.20        61\n",
      "           1       0.51      0.95      0.66        59\n",
      "\n",
      "    accuracy                           0.53       120\n",
      "   macro avg       0.60      0.53      0.43       120\n",
      "weighted avg       0.61      0.53      0.43       120\n",
      "\n"
     ]
    }
   ],
   "source": [
    "classification_report_result = classification_report(y_test, y_pred)\n",
    "print(\"Classification Report:\\n\", classification_report_result)"
   ]
  },
  {
   "cell_type": "code",
   "execution_count": 91,
   "id": "9671698c-13e4-41e6-93ec-1dd241ade199",
   "metadata": {},
   "outputs": [
    {
     "name": "stdout",
     "output_type": "stream",
     "text": [
      "Confusion Matrix:\n",
      " [[ 7 54]\n",
      " [ 3 56]]\n"
     ]
    }
   ],
   "source": [
    "from sklearn.metrics import classification_report, confusion_matrix\n",
    "\n",
    "confusion_matrix_result = confusion_matrix(y_test, y_pred)\n",
    "print(\"Confusion Matrix:\\n\", confusion_matrix_result)"
   ]
  },
  {
   "cell_type": "code",
   "execution_count": null,
   "id": "478308f1-6c1e-41da-8bb7-8b7e5c035f91",
   "metadata": {},
   "outputs": [],
   "source": []
  },
  {
   "cell_type": "code",
   "execution_count": null,
   "id": "38d47a19-7546-4ca1-8c08-8c5d2114dcc3",
   "metadata": {},
   "outputs": [],
   "source": []
  },
  {
   "cell_type": "code",
   "execution_count": null,
   "id": "3e2a0477-90c9-4fc1-9cd1-770b98937732",
   "metadata": {},
   "outputs": [],
   "source": []
  },
  {
   "cell_type": "code",
   "execution_count": null,
   "id": "24081ad9-bbe3-417c-a0a3-f86c122c586d",
   "metadata": {},
   "outputs": [],
   "source": []
  },
  {
   "cell_type": "code",
   "execution_count": 92,
   "id": "423f7884-061b-4d09-9871-8568e30e5bc4",
   "metadata": {},
   "outputs": [
    {
     "data": {
      "text/plain": [
       "(480, 13)"
      ]
     },
     "execution_count": 92,
     "metadata": {},
     "output_type": "execute_result"
    }
   ],
   "source": [
    "# X_train.shape"
   ]
  },
  {
   "cell_type": "code",
   "execution_count": null,
   "id": "64de4cb2-6134-4c7c-b9f5-27fb4c11e8b2",
   "metadata": {},
   "outputs": [],
   "source": []
  },
  {
   "cell_type": "code",
   "execution_count": null,
   "id": "972603c8-00e3-4e3e-84a2-3c7f02581016",
   "metadata": {},
   "outputs": [],
   "source": []
  },
  {
   "cell_type": "code",
   "execution_count": 93,
   "id": "787645d9-824c-455a-aafc-14effdc20e6b",
   "metadata": {},
   "outputs": [],
   "source": [
    "# Importing standard Qiskit libraries\n",
    "from qiskit import QuantumCircuit, transpile, BasicAer, IBMQ, execute, Aer, assemble\n",
    "# from qiskit.tools.jupyter import *\n",
    "from qiskit.visualization import *\n",
    "from qiskit import Aer\n",
    "from qiskit.algorithms.optimizers import SPSA\n",
    "from qiskit.circuit import ParameterVector\n",
    "from qiskit.visualization import circuit_drawer\n",
    "\n",
    "\n",
    "\n",
    "from qiskit.providers.aer import QasmSimulator, StatevectorSimulator, UnitarySimulator\n",
    "\n",
    "\n",
    "# General libraries\\\n",
    "import numpy as np\n",
    "import pandas as pd\n",
    "import matplotlib.pyplot as plt\n",
    "from pylab import cm\n",
    "from sklearn import metrics\n",
    "\n",
    "# QKT related\n",
    "from qiskit.circuit.library import ZZFeatureMap,ZFeatureMap, PauliFeatureMap\n",
    "from qiskit_machine_learning.algorithms import QSVC\n",
    "from qiskit_machine_learning.kernels import FidelityQuantumKernel, TrainableFidelityQuantumKernel,QuantumKernel\n",
    "# from qiskit_machine_learning.kernels.algorithms import QuantumKernelTrainer\n",
    "from qiskit.algorithms.state_fidelities import ComputeUncompute\n",
    "# from qiskit.primitives import Sampler\n",
    "\n",
    "# Additional imports\n",
    "from sklearn.decomposition import PCA\n",
    "from sklearn.metrics import confusion_matrix, classification_report\n",
    "from sklearn.model_selection import train_test_split\n",
    "\n",
    "from collections import Counter"
   ]
  },
  {
   "cell_type": "code",
   "execution_count": 94,
   "id": "4e61287f-e96b-4e70-a6ed-0d57140be96c",
   "metadata": {},
   "outputs": [
    {
     "name": "stdout",
     "output_type": "stream",
     "text": [
      "46\n"
     ]
    }
   ],
   "source": [
    "data_map = lambda x: x[0]*x[0]+1\n",
    "components=13\n",
    "# components =17\n",
    "# fm = ZFeatureMap(components, reps=1,data_map_func=data_map)\n",
    "# print(circuit_drawer(fm, output='text'))\n",
    "\n",
    "fm = ZZFeatureMap(components, entanglement='linear')\n",
    "print(transpile(fm,optimization_level=3).depth())"
   ]
  },
  {
   "cell_type": "code",
   "execution_count": 95,
   "id": "77be8893-6160-4122-90d5-f79461c8d2d2",
   "metadata": {},
   "outputs": [
    {
     "data": {
      "text/html": [
       "<style>#sk-container-id-2 {color: black;background-color: white;}#sk-container-id-2 pre{padding: 0;}#sk-container-id-2 div.sk-toggleable {background-color: white;}#sk-container-id-2 label.sk-toggleable__label {cursor: pointer;display: block;width: 100%;margin-bottom: 0;padding: 0.3em;box-sizing: border-box;text-align: center;}#sk-container-id-2 label.sk-toggleable__label-arrow:before {content: \"▸\";float: left;margin-right: 0.25em;color: #696969;}#sk-container-id-2 label.sk-toggleable__label-arrow:hover:before {color: black;}#sk-container-id-2 div.sk-estimator:hover label.sk-toggleable__label-arrow:before {color: black;}#sk-container-id-2 div.sk-toggleable__content {max-height: 0;max-width: 0;overflow: hidden;text-align: left;background-color: #f0f8ff;}#sk-container-id-2 div.sk-toggleable__content pre {margin: 0.2em;color: black;border-radius: 0.25em;background-color: #f0f8ff;}#sk-container-id-2 input.sk-toggleable__control:checked~div.sk-toggleable__content {max-height: 200px;max-width: 100%;overflow: auto;}#sk-container-id-2 input.sk-toggleable__control:checked~label.sk-toggleable__label-arrow:before {content: \"▾\";}#sk-container-id-2 div.sk-estimator input.sk-toggleable__control:checked~label.sk-toggleable__label {background-color: #d4ebff;}#sk-container-id-2 div.sk-label input.sk-toggleable__control:checked~label.sk-toggleable__label {background-color: #d4ebff;}#sk-container-id-2 input.sk-hidden--visually {border: 0;clip: rect(1px 1px 1px 1px);clip: rect(1px, 1px, 1px, 1px);height: 1px;margin: -1px;overflow: hidden;padding: 0;position: absolute;width: 1px;}#sk-container-id-2 div.sk-estimator {font-family: monospace;background-color: #f0f8ff;border: 1px dotted black;border-radius: 0.25em;box-sizing: border-box;margin-bottom: 0.5em;}#sk-container-id-2 div.sk-estimator:hover {background-color: #d4ebff;}#sk-container-id-2 div.sk-parallel-item::after {content: \"\";width: 100%;border-bottom: 1px solid gray;flex-grow: 1;}#sk-container-id-2 div.sk-label:hover label.sk-toggleable__label {background-color: #d4ebff;}#sk-container-id-2 div.sk-serial::before {content: \"\";position: absolute;border-left: 1px solid gray;box-sizing: border-box;top: 0;bottom: 0;left: 50%;z-index: 0;}#sk-container-id-2 div.sk-serial {display: flex;flex-direction: column;align-items: center;background-color: white;padding-right: 0.2em;padding-left: 0.2em;position: relative;}#sk-container-id-2 div.sk-item {position: relative;z-index: 1;}#sk-container-id-2 div.sk-parallel {display: flex;align-items: stretch;justify-content: center;background-color: white;position: relative;}#sk-container-id-2 div.sk-item::before, #sk-container-id-2 div.sk-parallel-item::before {content: \"\";position: absolute;border-left: 1px solid gray;box-sizing: border-box;top: 0;bottom: 0;left: 50%;z-index: -1;}#sk-container-id-2 div.sk-parallel-item {display: flex;flex-direction: column;z-index: 1;position: relative;background-color: white;}#sk-container-id-2 div.sk-parallel-item:first-child::after {align-self: flex-end;width: 50%;}#sk-container-id-2 div.sk-parallel-item:last-child::after {align-self: flex-start;width: 50%;}#sk-container-id-2 div.sk-parallel-item:only-child::after {width: 0;}#sk-container-id-2 div.sk-dashed-wrapped {border: 1px dashed gray;margin: 0 0.4em 0.5em 0.4em;box-sizing: border-box;padding-bottom: 0.4em;background-color: white;}#sk-container-id-2 div.sk-label label {font-family: monospace;font-weight: bold;display: inline-block;line-height: 1.2em;}#sk-container-id-2 div.sk-label-container {text-align: center;}#sk-container-id-2 div.sk-container {/* jupyter's `normalize.less` sets `[hidden] { display: none; }` but bootstrap.min.css set `[hidden] { display: none !important; }` so we also need the `!important` here to be able to override the default hidden behavior on the sphinx rendered scikit-learn.org. See: https://github.com/scikit-learn/scikit-learn/issues/21755 */display: inline-block !important;position: relative;}#sk-container-id-2 div.sk-text-repr-fallback {display: none;}</style><div id=\"sk-container-id-2\" class=\"sk-top-container\"><div class=\"sk-text-repr-fallback\"><pre>QSVC(C=1.0, break_ties=False, cache_size=200, class_weight=None, coef0=0.0,\n",
       "     decision_function_shape=&#x27;ovr&#x27;, degree=3, gamma=&#x27;scale&#x27;, max_iter=-1,\n",
       "     probability=False,\n",
       "     quantum_kernel=&lt;qiskit_machine_learning.kernels.quantum_kernel.QuantumKernel object at 0x7f3a8e884fd0&gt;,\n",
       "     random_state=None, shrinking=True, tol=0.001, verbose=False)</pre><b>In a Jupyter environment, please rerun this cell to show the HTML representation or trust the notebook. <br />On GitHub, the HTML representation is unable to render, please try loading this page with nbviewer.org.</b></div><div class=\"sk-container\" hidden><div class=\"sk-item\"><div class=\"sk-estimator sk-toggleable\"><input class=\"sk-toggleable__control sk-hidden--visually\" id=\"sk-estimator-id-2\" type=\"checkbox\" checked><label for=\"sk-estimator-id-2\" class=\"sk-toggleable__label sk-toggleable__label-arrow\">QSVC</label><div class=\"sk-toggleable__content\"><pre>QSVC(C=1.0, break_ties=False, cache_size=200, class_weight=None, coef0=0.0,\n",
       "     decision_function_shape=&#x27;ovr&#x27;, degree=3, gamma=&#x27;scale&#x27;, max_iter=-1,\n",
       "     probability=False,\n",
       "     quantum_kernel=&lt;qiskit_machine_learning.kernels.quantum_kernel.QuantumKernel object at 0x7f3a8e884fd0&gt;,\n",
       "     random_state=None, shrinking=True, tol=0.001, verbose=False)</pre></div></div></div></div></div>"
      ],
      "text/plain": [
       "QSVC(C=1.0, break_ties=False, cache_size=200, class_weight=None, coef0=0.0,\n",
       "     decision_function_shape='ovr', degree=3, gamma='scale', max_iter=-1,\n",
       "     probability=False,\n",
       "     quantum_kernel=<qiskit_machine_learning.kernels.quantum_kernel.QuantumKernel object at 0x7f3a8e884fd0>,\n",
       "     random_state=None, shrinking=True, tol=0.001, verbose=False)"
      ]
     },
     "execution_count": 95,
     "metadata": {},
     "output_type": "execute_result"
    }
   ],
   "source": [
    "# Create a quantum kernel using the feature map\n",
    "quantum_kernel = QuantumKernel(feature_map=fm, quantum_instance=Aer.get_backend('qasm_simulator'))\n",
    "# quantum_kernel = TrainableFidelityQuantumKernel(feature_map=fm, training_parameters=training_params)\n",
    "\n",
    "# Create a QSVC model\n",
    "qsvc = QSVC(quantum_kernel=quantum_kernel)\n",
    "\n",
    "# Fit the QSVC model using the training data\n",
    "qsvc.fit(X_train, y_train)"
   ]
  },
  {
   "cell_type": "code",
   "execution_count": 96,
   "id": "c7c39c6d-172f-48e5-9254-c54fb8cedcb9",
   "metadata": {},
   "outputs": [],
   "source": [
    "# Predict the labels\n",
    "labels_test = qsvc.predict(X_test)\n",
    "\n"
   ]
  },
  {
   "cell_type": "code",
   "execution_count": 97,
   "id": "936f45db-617e-49da-8f01-8c4ea5b8da11",
   "metadata": {},
   "outputs": [
    {
     "name": "stdout",
     "output_type": "stream",
     "text": [
      "[[ 0 61]\n",
      " [ 0 59]]\n",
      "              precision    recall  f1-score   support\n",
      "\n",
      "           0       0.00      0.00      0.00        61\n",
      "           1       0.49      1.00      0.66        59\n",
      "\n",
      "    accuracy                           0.49       120\n",
      "   macro avg       0.25      0.50      0.33       120\n",
      "weighted avg       0.24      0.49      0.32       120\n",
      "\n",
      "Test Accuracy: 0.5\n"
     ]
    },
    {
     "name": "stderr",
     "output_type": "stream",
     "text": [
      "/home/masavir10728587/.local/lib/python3.8/site-packages/sklearn/metrics/_classification.py:1344: UndefinedMetricWarning: Precision and F-score are ill-defined and being set to 0.0 in labels with no predicted samples. Use `zero_division` parameter to control this behavior.\n",
      "  _warn_prf(average, modifier, msg_start, len(result))\n",
      "/home/masavir10728587/.local/lib/python3.8/site-packages/sklearn/metrics/_classification.py:1344: UndefinedMetricWarning: Precision and F-score are ill-defined and being set to 0.0 in labels with no predicted samples. Use `zero_division` parameter to control this behavior.\n",
      "  _warn_prf(average, modifier, msg_start, len(result))\n",
      "/home/masavir10728587/.local/lib/python3.8/site-packages/sklearn/metrics/_classification.py:1344: UndefinedMetricWarning: Precision and F-score are ill-defined and being set to 0.0 in labels with no predicted samples. Use `zero_division` parameter to control this behavior.\n",
      "  _warn_prf(average, modifier, msg_start, len(result))\n"
     ]
    }
   ],
   "source": [
    "# Evalaute the test accuracy\n",
    "accuracy_test = metrics.balanced_accuracy_score(y_true=y_test, y_pred=labels_test)\n",
    "print(confusion_matrix(y_test, labels_test))\n",
    "print(classification_report(y_test, labels_test))\n",
    "print(f\"Test Accuracy: {accuracy_test}\")"
   ]
  },
  {
   "cell_type": "code",
   "execution_count": null,
   "id": "59318770-2797-4f06-ac1c-b22c726cf666",
   "metadata": {},
   "outputs": [],
   "source": []
  },
  {
   "cell_type": "code",
   "execution_count": null,
   "id": "a9127422-1b64-4f9d-9a9d-4ebdc6f61e81",
   "metadata": {},
   "outputs": [],
   "source": []
  }
 ],
 "metadata": {
  "kernelspec": {
   "display_name": "Python 3 (ipykernel)",
   "language": "python",
   "name": "python3"
  },
  "language_info": {
   "codemirror_mode": {
    "name": "ipython",
    "version": 3
   },
   "file_extension": ".py",
   "mimetype": "text/x-python",
   "name": "python",
   "nbconvert_exporter": "python",
   "pygments_lexer": "ipython3",
   "version": "3.8.10"
  }
 },
 "nbformat": 4,
 "nbformat_minor": 5
}
